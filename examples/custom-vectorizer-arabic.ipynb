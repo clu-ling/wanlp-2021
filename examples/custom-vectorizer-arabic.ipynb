{
 "cells": [
  {
   "cell_type": "code",
   "execution_count": 61,
   "metadata": {},
   "outputs": [],
   "source": [
    "from sklearn.feature_extraction import DictVectorizer\n",
    "from sklearn.base import BaseEstimator, TransformerMixin\n",
    "import numpy as np\n",
    "# requires >= python 3.8\n",
    "from typing import Dict, Literal"
   ]
  },
  {
   "cell_type": "code",
   "execution_count": 62,
   "metadata": {},
   "outputs": [
    {
     "name": "stdout",
     "output_type": "stream",
     "text": [
      "shape (21000, 4)\n",
      "shape (5000, 4)\n",
      "shape (5000, 2)\n"
     ]
    }
   ],
   "source": [
    "def read_files(path):\n",
    "    file = pd.read_csv(path, sep='\\t')\n",
    "    print('shape', file.shape)\n",
    "    return file\n",
    "\n",
    "train_df = read_files(\"DA_train_labeled.tsv\")\n",
    "dev_df = read_files(\"DA_dev_labeled.tsv\")\n",
    "test_df = read_files(\"DA_test_unlabeled.tsv\")"
   ]
  },
  {
   "cell_type": "markdown",
   "metadata": {},
   "source": [
    "## Create a custom feature extractor by extending `DictVectorizer`"
   ]
  },
  {
   "cell_type": "code",
   "execution_count": 45,
   "metadata": {},
   "outputs": [],
   "source": [
    "# data type alias where value must be 0 or 1\n",
    "Binary = Literal[0, 1]\n",
    "\n",
    "class LinguisticFeatureEncoder(DictVectorizer):\n",
    "    \"\"\"\n",
    "    Encodes linguistic features defined in self\n",
    "    \"\"\"\n",
    "    def __init__(self, **kwargs):        \n",
    "        super().__init__(sparse=kwargs.get(\"sparse\", False))\n",
    "        self.use_negative_features = kwargs.get(\"use_negative_features\", False)\n",
    "        # all positive features\n",
    "        self.pos_features: Dict[str, Callable[str, Binary]] = {\n",
    "            # AFRICA\n",
    "            #\"egy_dem\": lambda text: 1 if any(text.find(i) >=0 for i in (u'\\sدي\\s', u'\\sده\\s', u'\\sدى\\s')) else 0,\n",
    "            #\"egypt_neg\": lambda text: 1 if text.find(u'\\sمش\\s') >= 0 else 0,\n",
    "            \"tunis_iterog\": lambda text: 1 if text.find(u'\\sعلاش\\s') >= 0 else 0,\n",
    "            \"tunis_degree\": lambda text: 1 if text.find(u'\\sبرشا\\s') >= 0 else 0,\n",
    "            \"tunis_contextualword\": lambda text: 1 if text.find(u'\\sباهي\\s') >= 0 else 0,\n",
    "            \"algeria\": lambda text: 1 if text.find(u'\\sكاش\\s') >= 0 else 0,\n",
    "            \"mor_dem\": lambda text: 1 if any(text.find(i) >=0 for i in (u'\\sديال\\s', u'\\sديالي\\s', u'\\sديالى\\s')) else 0,\n",
    "            \"mauritania\": lambda text: 1 if any(text.find(i) >=0 for i in (u'\\sكاغ\\s', u'\\sايكد\\s')) else 0,\n",
    "            \"sudan\": lambda text: 1 if text.find(u'\\sياخ\\s') >= 0 else 0,\n",
    "            \"somalia\": lambda text: 1 if text.find(u'\\sتناطل\\s') >= 0 else 0,\n",
    "            \"dijubuti\": lambda text: 1 if any(text.find(i) >=0 for i in (u'\\sهاد\\s', u'\\sهلق\\s')) else 0,\n",
    "            \n",
    "            # ASIA\n",
    "            \"iraq_degree\": lambda text: 1 if any(text.find(i) >=0 for i in (u' خوش ', u' كاعد ')) else 0, \n",
    "            \"iraq_dem\": lambda text: 1 if any(text.find(i) >=0 for i in (u'\\sهاي\\s', u'\\sدا\\s')) else 0, \n",
    "            \"iraq_degree\": lambda text: 1 if any(text.find(i) >=0 for i in (u'\\sخوش\\s', u'\\sكاعد\\s')) else 0, \n",
    "            \"iraq_adj\": lambda text: 1 if any(text.find(i) >=0 for i in (u'\\sفدوه\\s', u'\\sفدوة\\s')) else 0, \n",
    "            \"iraq_interrog\": lambda text: 1 if text.find(u'\\sشديحس\\s') >= 0 else 0,\n",
    "            \"iraq_tensemarker\": lambda text: 1 if any(text.find(i) >=0 for i in (u'\\sهسه\\s', u'\\sهسع\\s', u'\\sلهسه\\s')) else 0, \n",
    "            \"saudi_dem\": lambda text: 1 if text.find(u'\\sكذا\\s') >= 0 else 0,\n",
    "            \"qatar\": lambda text: 1 if text.find(u'\\sوكني\\s') >= 0 else 0,\n",
    "            \"bahrain\": lambda text: 1 if text.find(u'\\sشفيها\\s') >= 0 else 0,\n",
    "            \"emirates\": lambda text: 1 if text.find(u'\\sعساه\\s') >= 0 else 0,\n",
    "            \"kuwait\": lambda text: 1 if text.find(u'\\sعندج\\s') >= 0 else 0,\n",
    "            \"oman\": lambda text: 1 if text.find(u'\\sعيل\\s') >= 0 else 0,\n",
    "            \"yemen\": lambda text: 1 if text.find(u'\\sكدي\\s') >= 0 else 0,\n",
    "            \"syria\": lambda text: 1 if text.find(u'\\sشنو\\s') >= 0 else 0,\n",
    "            \"palestine\": lambda text: 1 if text.find(u'\\sليش\\s') >= 0 else 0,\n",
    "            \"jordan\": lambda text: 1 if text.find(u'\\sهاظ\\s') >= 0 else 0,\n",
    "            \"lebanon\": lambda text: 1 if text.find(u'\\sهيدي\\s') >= 0 else 0,   \n",
    "    \n",
    "        }\n",
    "        \n",
    "    @property\n",
    "    def size(self) -> int:\n",
    "        return len(self.get_feature_names())\n",
    "    \n",
    "    def create_feature_dict(self, datum) -> Dict[str, Binary]:\n",
    "        \"\"\"\n",
    "        Creates a feature dictionary of str -> 1 or 0.\n",
    "        Optionally include negated forms of each feature (i.e., NOT_*)\n",
    "        \"\"\"\n",
    "        # 1 if value == 0 else value)\n",
    "        pos_features = dict((feat, fn(datum)) for (feat, fn) in self.pos_features.items())\n",
    "        neg_features = dict()\n",
    "        if not self.use_negative_features:\n",
    "            return pos_features\n",
    "        # assumes we're using positive features\n",
    "        neg_features = dict((f\"NOT_{feat}\", not value) for (feat, value) in pos_features.items())\n",
    "        return {**pos_features, **neg_features}\n",
    "            \n",
    "    def fit(self, X, y = None):\n",
    "        dicts = [self.create_feature_dict(datum = datum) for datum in X]\n",
    "        super().fit(dicts)\n",
    "        \n",
    "    def transform(self, X, y = None):\n",
    "        return super().transform([self.create_feature_dict(datum) for datum in X])\n",
    "\n",
    "    def fit_transform(self, X, y = None):\n",
    "        self.fit(X)\n",
    "        return self.transform(X)"
   ]
  },
  {
   "cell_type": "code",
   "execution_count": 46,
   "metadata": {},
   "outputs": [],
   "source": [
    "# Initialize our model and include negated features\n",
    "lfe = LinguisticFeatureEncoder(use_negative_features=False)"
   ]
  },
  {
   "cell_type": "code",
   "execution_count": 47,
   "metadata": {},
   "outputs": [],
   "source": [
    "lfe.fit(list(train_df['#2_tweet'].astype(str)))"
   ]
  },
  {
   "cell_type": "code",
   "execution_count": 48,
   "metadata": {},
   "outputs": [],
   "source": [
    "# alternatively fit and then transform in a single step ...\n",
    "train_data = lfe.transform(list(train_df['#2_tweet'].astype(str)))\n",
    "dev_data = lfe.transform(list(dev_df['#2_tweet'].astype(str)))\n",
    "test_data = lfe.transform(list(test_df['#2_tweet'].astype(str)))"
   ]
  },
  {
   "cell_type": "code",
   "execution_count": 49,
   "metadata": {},
   "outputs": [
    {
     "name": "stdout",
     "output_type": "stream",
     "text": [
      "Shape of label tensor: (16718, 20)\n"
     ]
    },
    {
     "data": {
      "text/plain": [
       "array([0., 0., 0., 0., 0., 0., 0., 0., 0., 0., 0., 0., 0., 1., 0., 0., 0.,\n",
       "       0., 0., 0.], dtype=float32)"
      ]
     },
     "execution_count": 49,
     "metadata": {},
     "output_type": "execute_result"
    }
   ],
   "source": [
    "from tensorflow.keras.utils import to_categorical\n",
    "from sklearn.preprocessing import LabelBinarizer, LabelEncoder\n",
    "train_y = list(train_df['#3_country_label'])\n",
    "dev_y = list(dev_df['#3_country_label'])\n",
    "\n",
    "encoder = LabelEncoder()\n",
    "encoder.fit(train_y)\n",
    "y_train = encoder.transform(train_y)\n",
    "y_dev = encoder.transform(dev_y)\n",
    "\n",
    "N_CLASSES = np.max(y_train) + 1\n",
    "N_CLASSES\n",
    "y_train = to_categorical(y_train, N_CLASSES)\n",
    "y_dev = to_categorical(y_dev, N_CLASSES)\n",
    "print('Shape of label tensor:', y_train.shape)\n",
    "N_CLASSES\n",
    "y_train[2]"
   ]
  },
  {
   "cell_type": "markdown",
   "metadata": {},
   "source": [
    "## Build a network\n",
    "\n",
    "Note that are engineered features have no sequential relationship, so **we do not use an RNN such as an LSTM for this architecture**.  Instead of simple feedforward network with fully connected layers, we could use a CNN for higher level feature extraction."
   ]
  },
  {
   "cell_type": "code",
   "execution_count": 50,
   "metadata": {},
   "outputs": [],
   "source": [
    "from tensorflow.keras.layers    import Input\n",
    "from tensorflow.keras.layers    import Conv1D, MaxPooling1D, Flatten, concatenate, Dropout, Input, Embedding, Dense\n",
    "from tensorflow.keras.callbacks import EarlyStopping\n",
    "from tensorflow.keras.models    import Model, Sequential\n",
    "from tensorflow.keras.utils     import plot_model"
   ]
  },
  {
   "cell_type": "code",
   "execution_count": 54,
   "metadata": {},
   "outputs": [],
   "source": [
    "def make_model(max_features: int, embedding_dim: int, num_classes: int = 20):\n",
    "    \n",
    "    input_c2      = Input(shape=(max_features,))\n",
    "    embeddings_c2 = Embedding(\n",
    "        max_features, \n",
    "        embedding_dim,\n",
    "        embeddings_initializer=\"uniform\",\n",
    "        embeddings_regularizer=None,\n",
    "        activity_regularizer=None,\n",
    "        embeddings_constraint=None,\n",
    "        mask_zero=False,\n",
    "        #weights=None,\n",
    "        input_length=max_features,\n",
    "        trainable=True\n",
    "    )(input_c2)\n",
    "    flat_c2       = Flatten()(embeddings_c2)\n",
    "    hidden_c2_1   = Dense(512, activation=\"relu\")(flat_c2)\n",
    "    hidden_c2_2   = Dense(256, activation=\"relu\")(hidden_c2_1)\n",
    "    outputs       = Dense(20, activation=\"softmax\")(hidden_c2_2)#\"softmax\")(hidden_c2_2)\n",
    "    \n",
    "    # model\n",
    "    model         = Model(inputs=[input_c2], outputs=outputs)\n",
    "    model.compile(\n",
    "        loss=\"categorical_crossentropy\", #'categorical_crossentropy',\n",
    "        optimizer=\"adam\", \n",
    "        metrics=[\"accuracy\"]\n",
    "    )\n",
    "    # summarize\n",
    "    model.summary()\n",
    "    return model"
   ]
  },
  {
   "cell_type": "code",
   "execution_count": 55,
   "metadata": {},
   "outputs": [
    {
     "name": "stdout",
     "output_type": "stream",
     "text": [
      "Model: \"model_2\"\n",
      "_________________________________________________________________\n",
      "Layer (type)                 Output Shape              Param #   \n",
      "=================================================================\n",
      "input_3 (InputLayer)         [(None, 25)]              0         \n",
      "_________________________________________________________________\n",
      "embedding_2 (Embedding)      (None, 25, 64)            1600      \n",
      "_________________________________________________________________\n",
      "flatten_2 (Flatten)          (None, 1600)              0         \n",
      "_________________________________________________________________\n",
      "dense_6 (Dense)              (None, 512)               819712    \n",
      "_________________________________________________________________\n",
      "dense_7 (Dense)              (None, 256)               131328    \n",
      "_________________________________________________________________\n",
      "dense_8 (Dense)              (None, 20)                5140      \n",
      "=================================================================\n",
      "Total params: 957,780\n",
      "Trainable params: 957,780\n",
      "Non-trainable params: 0\n",
      "_________________________________________________________________\n"
     ]
    }
   ],
   "source": [
    "model = make_model(max_features=lfe.size, embedding_dim=64)"
   ]
  },
  {
   "cell_type": "code",
   "execution_count": 56,
   "metadata": {},
   "outputs": [
    {
     "name": "stdout",
     "output_type": "stream",
     "text": [
      "Epoch 1/3\n",
      "523/523 [==============================] - 4s 6ms/step - loss: 2.7010 - accuracy: 0.1525 - val_loss: 2.6660 - val_accuracy: 0.1677\n",
      "Epoch 2/3\n",
      "523/523 [==============================] - 3s 6ms/step - loss: 2.6709 - accuracy: 0.1599 - val_loss: 2.6767 - val_accuracy: 0.1677\n",
      "Epoch 3/3\n",
      "523/523 [==============================] - 3s 6ms/step - loss: 2.6769 - accuracy: 0.1624 - val_loss: 2.6655 - val_accuracy: 0.1677\n"
     ]
    }
   ],
   "source": [
    "clf   = model.fit(\n",
    "    [train_data], \n",
    "    y_train,\n",
    "    validation_data=(\n",
    "        [dev_data], \n",
    "        y_dev\n",
    "    ),\n",
    "    epochs=3, \n",
    "    batch_size=32, \n",
    "    callbacks=[EarlyStopping(monitor='val_loss', patience=2)]\n",
    ")"
   ]
  },
  {
   "cell_type": "code",
   "execution_count": 57,
   "metadata": {},
   "outputs": [
    {
     "name": "stdout",
     "output_type": "stream",
     "text": [
      "100/100 [==============================] - 0s 2ms/step\n",
      "Labels are:  [3 3 3 ... 3 3 3]\n",
      "The length of predicted labels is:  5000\n"
     ]
    }
   ],
   "source": [
    "#apply to validation set\n",
    "pred_dev_y = model.predict([test_data], batch_size=50, verbose=1)\n",
    "pred_dev_y\n",
    "indexes = np.argsort(pred_dev_y)[::-1]\n",
    "indexes\n",
    "\n",
    "# labels for the predicted dev data\n",
    "labels = np.argmax(pred_dev_y, axis=-1)\n",
    "print('Labels are: ', labels)\n",
    "\n",
    "# getting the labels throw (inverse_transform)\n",
    "dev_y_predicted = encoder.inverse_transform(labels)\n",
    "print('The length of predicted labels is: ', len(dev_y_predicted))\n",
    "\n",
    "# save labels to txt file\n",
    "with open(\"two_forks_early.txt\", \"w\") as f:\n",
    "    for s in dev_y_predicted:\n",
    "        f.write(str(s) + \"\\n\")\n",
    "\n"
   ]
  },
  {
   "cell_type": "code",
   "execution_count": null,
   "metadata": {},
   "outputs": [],
   "source": []
  }
 ],
 "metadata": {
  "kernelspec": {
   "display_name": "Python 3",
   "language": "python",
   "name": "python3"
  },
  "language_info": {
   "codemirror_mode": {
    "name": "ipython",
    "version": 3
   },
   "file_extension": ".py",
   "mimetype": "text/x-python",
   "name": "python",
   "nbconvert_exporter": "python",
   "pygments_lexer": "ipython3",
   "version": "3.8.5"
  }
 },
 "nbformat": 4,
 "nbformat_minor": 4
}
