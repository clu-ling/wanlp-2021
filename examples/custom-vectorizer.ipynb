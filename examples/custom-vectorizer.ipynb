{
 "cells": [
  {
   "cell_type": "code",
   "execution_count": 30,
   "metadata": {},
   "outputs": [],
   "source": [
    "from sklearn.feature_extraction import DictVectorizer\n",
    "from sklearn.base import BaseEstimator, TransformerMixin\n",
    "import numpy as np\n",
    "# requires >= python 3.8\n",
    "from typing import Dict, Literal"
   ]
  },
  {
   "cell_type": "markdown",
   "metadata": {},
   "source": [
    "## Create a custom feature extractor by extending `DictVectorizer`"
   ]
  },
  {
   "cell_type": "code",
   "execution_count": 2,
   "metadata": {},
   "outputs": [],
   "source": [
    "# data type alias where value must be 0 or 1\n",
    "Binary = Literal[0, 1]\n",
    "\n",
    "class LinguisticFeatureEncoder(DictVectorizer):\n",
    "    \"\"\"\n",
    "    Encodes linguistic features defined in self\n",
    "    \"\"\"\n",
    "    def __init__(self, **kwargs):        \n",
    "        super().__init__(sparse=kwargs.get(\"sparse\", False))\n",
    "        self.use_negative_features = kwargs.get(\"use_negative_features\", False)\n",
    "        # all positive features\n",
    "        self.pos_features: Dict[str, Callable[str, Binary]] = {\n",
    "            \"ends_with_ed\": lambda text: 1 if text.endswith(\"ed\") else 0,\n",
    "            \"starts_with_vowel\": lambda text: 1 if text[0] in \"aeiou\" else 0\n",
    "        }\n",
    "        \n",
    "    @property\n",
    "    def size(self) -> int:\n",
    "        return len(self.get_feature_names())\n",
    "    \n",
    "    def create_feature_dict(self, datum) -> Dict[str, Binary]:\n",
    "        \"\"\"\n",
    "        Creates a feature dictionary of str -> 1 or 0.\n",
    "        Optionally include negated forms of each feature (i.e., NOT_*)\n",
    "        \"\"\"\n",
    "        \n",
    "        pos_features = dict((feat, fn(datum)) for (feat, fn) in self.pos_features.items())\n",
    "        neg_features = dict()\n",
    "        if not self.use_negative_features:\n",
    "            return pos_features\n",
    "        # assumes we're using positive features\n",
    "        neg_features = dict((f\"NOT_{feat}\", 1 if value == 0 else value) for (feat, value) in pos_features.items())\n",
    "        return {**pos_features, **neg_features}\n",
    "            \n",
    "    def fit(self, X, y = None):\n",
    "        dicts = [self.create_feature_dict(datum = datum) for datum in X]\n",
    "        super().fit(dicts)\n",
    "        \n",
    "    def transform(self, X, y = None):\n",
    "        return super().transform([self.create_feature_dict(datum) for datum in X])\n",
    "\n",
    "    def fit_transform(self, X, y = None):\n",
    "        self.fit(X)\n",
    "        return self.transform(X)\n",
    "        "
   ]
  },
  {
   "cell_type": "code",
   "execution_count": 3,
   "metadata": {},
   "outputs": [],
   "source": [
    "# Initialize our model and include negated features\n",
    "lfe = LinguisticFeatureEncoder(use_negative_features=True)"
   ]
  },
  {
   "cell_type": "code",
   "execution_count": 4,
   "metadata": {},
   "outputs": [],
   "source": [
    "lfe.fit([\"test\"])"
   ]
  },
  {
   "cell_type": "code",
   "execution_count": 5,
   "metadata": {},
   "outputs": [
    {
     "data": {
      "text/plain": [
       "array([[1., 1., 0., 0.],\n",
       "       [1., 1., 0., 1.]])"
      ]
     },
     "execution_count": 5,
     "metadata": {},
     "output_type": "execute_result"
    }
   ],
   "source": [
    "# alternatively fit and then transform in a single step ...\n",
    "lfe.fit_transform([\"test\", \"eagle\"])"
   ]
  },
  {
   "cell_type": "code",
   "execution_count": 6,
   "metadata": {},
   "outputs": [
    {
     "data": {
      "text/plain": [
       "['NOT_ends_with_ed',\n",
       " 'NOT_starts_with_vowel',\n",
       " 'ends_with_ed',\n",
       " 'starts_with_vowel']"
      ]
     },
     "execution_count": 6,
     "metadata": {},
     "output_type": "execute_result"
    }
   ],
   "source": [
    "lfe.get_feature_names()"
   ]
  },
  {
   "cell_type": "code",
   "execution_count": 7,
   "metadata": {},
   "outputs": [
    {
     "data": {
      "text/plain": [
       "array([[1., 1., 0., 0.]])"
      ]
     },
     "execution_count": 7,
     "metadata": {},
     "output_type": "execute_result"
    }
   ],
   "source": [
    "lfe.transform([\"test\"])"
   ]
  },
  {
   "cell_type": "code",
   "execution_count": 8,
   "metadata": {},
   "outputs": [
    {
     "data": {
      "text/plain": [
       "array([[1., 1., 1., 0.]])"
      ]
     },
     "execution_count": 8,
     "metadata": {},
     "output_type": "execute_result"
    }
   ],
   "source": [
    "lfe.transform([\"ned\"])"
   ]
  },
  {
   "cell_type": "code",
   "execution_count": 9,
   "metadata": {},
   "outputs": [
    {
     "data": {
      "text/plain": [
       "array([[1., 1., 0., 0.],\n",
       "       [1., 1., 1., 0.]])"
      ]
     },
     "execution_count": 9,
     "metadata": {},
     "output_type": "execute_result"
    }
   ],
   "source": [
    "lfe.transform([\"test\", \"ned\"])"
   ]
  },
  {
   "cell_type": "code",
   "execution_count": 10,
   "metadata": {},
   "outputs": [
    {
     "data": {
      "text/plain": [
       "4"
      ]
     },
     "execution_count": 10,
     "metadata": {},
     "output_type": "execute_result"
    }
   ],
   "source": [
    "lfe.size"
   ]
  },
  {
   "cell_type": "markdown",
   "metadata": {},
   "source": [
    "## Build a network\n",
    "\n",
    "Note that are engineered features have no sequential relationship, so **we do not use an RNN such as an LSTM for this architecture**.  Instead of simple feedforward network with fully connected layers, we could use a CNN for higher level feature extraction."
   ]
  },
  {
   "cell_type": "code",
   "execution_count": 17,
   "metadata": {},
   "outputs": [],
   "source": [
    "from tensorflow.keras.layers    import Input\n",
    "from tensorflow.keras.layers    import Conv1D, MaxPooling1D, Flatten, concatenate, Dropout, Input, Embedding, Dense\n",
    "from tensorflow.keras.callbacks import EarlyStopping\n",
    "from tensorflow.keras.models    import Model, Sequential"
   ]
  },
  {
   "cell_type": "code",
   "execution_count": 60,
   "metadata": {},
   "outputs": [],
   "source": [
    "def make_model(max_features: int, embedding_dim: int, num_classes: int = 2):\n",
    "    input_c2      = Input(shape=(max_features,))\n",
    "    embeddings_c2 = Embedding(\n",
    "        max_features, \n",
    "        embedding_dim,\n",
    "        embeddings_initializer=\"uniform\",\n",
    "        embeddings_regularizer=None,\n",
    "        activity_regularizer=None,\n",
    "        embeddings_constraint=None,\n",
    "        mask_zero=False,\n",
    "        #weights=None,\n",
    "        input_length=max_features,\n",
    "        trainable=True\n",
    "    )(input_c2)\n",
    "    flat_c2       = Flatten()(embeddings_c2)\n",
    "    hidden_c2_1   = Dense(20, activation=\"relu\")(flat_c2)\n",
    "    hidden_c2_2   = Dense(20, activation=\"relu\")(hidden_c2_1)\n",
    "    outputs       = Dense(1, activation=\"sigmoid\")(hidden_c2_2)#\"softmax\")(hidden_c2_2)\n",
    "    \n",
    "    # model\n",
    "    model         = Model(inputs=[input_c2], outputs=outputs)\n",
    "    model.compile(\n",
    "        loss=\"binary_crossentropy\", #'categorical_crossentropy',\n",
    "        optimizer=\"adam\", \n",
    "        metrics=[\"accuracy\"]\n",
    "    )\n",
    "    # summarize\n",
    "    model.summary()\n",
    "    return model"
   ]
  },
  {
   "cell_type": "code",
   "execution_count": 61,
   "metadata": {},
   "outputs": [
    {
     "name": "stdout",
     "output_type": "stream",
     "text": [
      "Model: \"model_13\"\n",
      "_________________________________________________________________\n",
      "Layer (type)                 Output Shape              Param #   \n",
      "=================================================================\n",
      "input_16 (InputLayer)        [(None, 4)]               0         \n",
      "_________________________________________________________________\n",
      "embedding_15 (Embedding)     (None, 4, 3)              12        \n",
      "_________________________________________________________________\n",
      "flatten_14 (Flatten)         (None, 12)                0         \n",
      "_________________________________________________________________\n",
      "dense_41 (Dense)             (None, 20)                260       \n",
      "_________________________________________________________________\n",
      "dense_42 (Dense)             (None, 20)                420       \n",
      "_________________________________________________________________\n",
      "dense_43 (Dense)             (None, 1)                 21        \n",
      "=================================================================\n",
      "Total params: 713\n",
      "Trainable params: 713\n",
      "Non-trainable params: 0\n",
      "_________________________________________________________________\n"
     ]
    }
   ],
   "source": [
    "lfe = LinguisticFeatureEncoder(use_negative_features=True)\n",
    "\n",
    "train_X  = lfe.fit_transform([\n",
    "    \"eagle\",\n",
    "    \"scared\",\n",
    "    \"timeless\",\n",
    "    \"sacred\",\n",
    "    \"allied\"\n",
    "])\n",
    "\n",
    "train_y = np.array([\n",
    "    1,\n",
    "    0,\n",
    "    0,\n",
    "    1,\n",
    "    1\n",
    "])#.astype('float32').reshape((-1,1))\n",
    "\n",
    "dev_X  = lfe.transform([\n",
    "    \"beagle\",\n",
    "    \"rain\",\n",
    "    \"fried\",\n",
    "    \"elephant\"\n",
    "])\n",
    "\n",
    "dev_y = np.array([\n",
    "    1,\n",
    "    0,\n",
    "    1,\n",
    "    0\n",
    "])#.astype('float32').reshape((-1,1))\n",
    "\n",
    "model = make_model(max_features=lfe.size, embedding_dim=3)"
   ]
  },
  {
   "cell_type": "code",
   "execution_count": 62,
   "metadata": {},
   "outputs": [
    {
     "name": "stdout",
     "output_type": "stream",
     "text": [
      "Epoch 1/10\n",
      "3/3 [==============================] - 0s 51ms/step - loss: 0.6954 - accuracy: 0.4500 - val_loss: 0.6911 - val_accuracy: 0.7500\n",
      "Epoch 2/10\n",
      "3/3 [==============================] - 0s 8ms/step - loss: 0.6940 - accuracy: 0.5500 - val_loss: 0.6915 - val_accuracy: 0.7500\n",
      "Epoch 3/10\n",
      "3/3 [==============================] - 0s 8ms/step - loss: 0.6939 - accuracy: 0.4250 - val_loss: 0.6919 - val_accuracy: 0.5000\n"
     ]
    }
   ],
   "source": [
    "clf   = model.fit(\n",
    "    [train_X], \n",
    "    train_y,\n",
    "    validation_data=(\n",
    "        [dev_X], \n",
    "        dev_y\n",
    "    ),\n",
    "    epochs=10, \n",
    "    batch_size=2, \n",
    "    callbacks=[EarlyStopping(monitor='val_loss', patience=2)]\n",
    ")"
   ]
  }
 ],
 "metadata": {
  "kernelspec": {
   "display_name": "Python 3",
   "language": "python",
   "name": "python3"
  },
  "language_info": {
   "codemirror_mode": {
    "name": "ipython",
    "version": 3
   },
   "file_extension": ".py",
   "mimetype": "text/x-python",
   "name": "python",
   "nbconvert_exporter": "python",
   "pygments_lexer": "ipython3",
   "version": "3.8.5"
  }
 },
 "nbformat": 4,
 "nbformat_minor": 4
}
