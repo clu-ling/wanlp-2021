{
 "cells": [
  {
   "cell_type": "code",
   "execution_count": 1,
   "metadata": {},
   "outputs": [
    {
     "name": "stderr",
     "output_type": "stream",
     "text": [
      "/Users/Mohammed/opt/anaconda3/lib/python3.8/site-packages/tqdm/std.py:697: FutureWarning: The Panel class is removed from pandas. Accessing it from the top-level namespace will also be removed in the next version\n",
      "  from pandas import Panel\n"
     ]
    }
   ],
   "source": [
    "import numpy as np \n",
    "import pandas as pd \n",
    "from tqdm import tqdm\n",
    "tqdm.pandas()\n",
    "import re\n",
    "import matplotlib.pyplot as plt\n",
    "np.random.seed(32)\n",
    "\n",
    "from sklearn.model_selection import train_test_split\n",
    "from sklearn.metrics import roc_auc_score\n",
    "from sklearn.manifold import TSNE\n",
    "\n",
    "from keras.preprocessing.text import Tokenizer\n",
    "from keras.preprocessing.sequence import pad_sequences\n",
    "from tensorflow.keras.layers import LSTM, Conv1D, MaxPooling1D, Dropout, Input, Embedding, Dense\n",
    "from keras.utils.np_utils import to_categorical\n",
    "from sklearn.preprocessing import LabelBinarizer, LabelEncoder\n",
    "from keras.callbacks import EarlyStopping\n",
    "from tensorflow.keras.models import Model, Sequential\n",
    "\n",
    "%matplotlib inline"
   ]
  },
  {
   "cell_type": "code",
   "execution_count": 2,
   "metadata": {
    "scrolled": true
   },
   "outputs": [
    {
     "ename": "FileNotFoundError",
     "evalue": "[Errno 2] No such file or directory: 'DA_train_labeled.tsv'",
     "output_type": "error",
     "traceback": [
      "\u001b[0;31m---------------------------------------------------------------------------\u001b[0m",
      "\u001b[0;31mFileNotFoundError\u001b[0m                         Traceback (most recent call last)",
      "\u001b[0;32m<ipython-input-2-f017c88d7fa3>\u001b[0m in \u001b[0;36m<module>\u001b[0;34m\u001b[0m\n\u001b[1;32m      6\u001b[0m     \u001b[0;32mreturn\u001b[0m \u001b[0mfile\u001b[0m\u001b[0;34m\u001b[0m\u001b[0;34m\u001b[0m\u001b[0m\n\u001b[1;32m      7\u001b[0m \u001b[0;34m\u001b[0m\u001b[0m\n\u001b[0;32m----> 8\u001b[0;31m \u001b[0mtrain_df\u001b[0m \u001b[0;34m=\u001b[0m \u001b[0mread_files\u001b[0m\u001b[0;34m(\u001b[0m\u001b[0;34m'DA_train_labeled.tsv'\u001b[0m\u001b[0;34m)\u001b[0m\u001b[0;34m\u001b[0m\u001b[0;34m\u001b[0m\u001b[0m\n\u001b[0m\u001b[1;32m      9\u001b[0m \u001b[0mdev_df\u001b[0m \u001b[0;34m=\u001b[0m \u001b[0mread_files\u001b[0m\u001b[0;34m(\u001b[0m\u001b[0;34m'DA_dev_labeled.tsv'\u001b[0m\u001b[0;34m)\u001b[0m\u001b[0;34m\u001b[0m\u001b[0;34m\u001b[0m\u001b[0m\n\u001b[1;32m     10\u001b[0m \u001b[0mtest_df\u001b[0m \u001b[0;34m=\u001b[0m \u001b[0mread_files\u001b[0m\u001b[0;34m(\u001b[0m\u001b[0;34m'DA_test_unlabeled.tsv'\u001b[0m\u001b[0;34m)\u001b[0m\u001b[0;34m\u001b[0m\u001b[0;34m\u001b[0m\u001b[0m\n",
      "\u001b[0;32m<ipython-input-2-f017c88d7fa3>\u001b[0m in \u001b[0;36mread_files\u001b[0;34m(path)\u001b[0m\n\u001b[1;32m      2\u001b[0m \u001b[0;31m# read the data\u001b[0m\u001b[0;34m\u001b[0m\u001b[0;34m\u001b[0m\u001b[0;34m\u001b[0m\u001b[0m\n\u001b[1;32m      3\u001b[0m \u001b[0;32mdef\u001b[0m \u001b[0mread_files\u001b[0m\u001b[0;34m(\u001b[0m\u001b[0mpath\u001b[0m\u001b[0;34m)\u001b[0m\u001b[0;34m:\u001b[0m\u001b[0;34m\u001b[0m\u001b[0;34m\u001b[0m\u001b[0m\n\u001b[0;32m----> 4\u001b[0;31m     \u001b[0mfile\u001b[0m \u001b[0;34m=\u001b[0m \u001b[0mpd\u001b[0m\u001b[0;34m.\u001b[0m\u001b[0mread_csv\u001b[0m\u001b[0;34m(\u001b[0m\u001b[0mpath\u001b[0m\u001b[0;34m,\u001b[0m \u001b[0msep\u001b[0m\u001b[0;34m=\u001b[0m\u001b[0;34m'\\t'\u001b[0m\u001b[0;34m)\u001b[0m\u001b[0;34m\u001b[0m\u001b[0;34m\u001b[0m\u001b[0m\n\u001b[0m\u001b[1;32m      5\u001b[0m     \u001b[0mprint\u001b[0m \u001b[0;34m(\u001b[0m\u001b[0;34m'The shape of the data: '\u001b[0m\u001b[0;34m,\u001b[0m \u001b[0mfile\u001b[0m\u001b[0;34m.\u001b[0m\u001b[0mshape\u001b[0m\u001b[0;34m)\u001b[0m\u001b[0;34m\u001b[0m\u001b[0;34m\u001b[0m\u001b[0m\n\u001b[1;32m      6\u001b[0m     \u001b[0;32mreturn\u001b[0m \u001b[0mfile\u001b[0m\u001b[0;34m\u001b[0m\u001b[0;34m\u001b[0m\u001b[0m\n",
      "\u001b[0;32m~/opt/anaconda3/lib/python3.8/site-packages/pandas/io/parsers.py\u001b[0m in \u001b[0;36mread_csv\u001b[0;34m(filepath_or_buffer, sep, delimiter, header, names, index_col, usecols, squeeze, prefix, mangle_dupe_cols, dtype, engine, converters, true_values, false_values, skipinitialspace, skiprows, skipfooter, nrows, na_values, keep_default_na, na_filter, verbose, skip_blank_lines, parse_dates, infer_datetime_format, keep_date_col, date_parser, dayfirst, cache_dates, iterator, chunksize, compression, thousands, decimal, lineterminator, quotechar, quoting, doublequote, escapechar, comment, encoding, dialect, error_bad_lines, warn_bad_lines, delim_whitespace, low_memory, memory_map, float_precision)\u001b[0m\n\u001b[1;32m    684\u001b[0m     )\n\u001b[1;32m    685\u001b[0m \u001b[0;34m\u001b[0m\u001b[0m\n\u001b[0;32m--> 686\u001b[0;31m     \u001b[0;32mreturn\u001b[0m \u001b[0m_read\u001b[0m\u001b[0;34m(\u001b[0m\u001b[0mfilepath_or_buffer\u001b[0m\u001b[0;34m,\u001b[0m \u001b[0mkwds\u001b[0m\u001b[0;34m)\u001b[0m\u001b[0;34m\u001b[0m\u001b[0;34m\u001b[0m\u001b[0m\n\u001b[0m\u001b[1;32m    687\u001b[0m \u001b[0;34m\u001b[0m\u001b[0m\n\u001b[1;32m    688\u001b[0m \u001b[0;34m\u001b[0m\u001b[0m\n",
      "\u001b[0;32m~/opt/anaconda3/lib/python3.8/site-packages/pandas/io/parsers.py\u001b[0m in \u001b[0;36m_read\u001b[0;34m(filepath_or_buffer, kwds)\u001b[0m\n\u001b[1;32m    450\u001b[0m \u001b[0;34m\u001b[0m\u001b[0m\n\u001b[1;32m    451\u001b[0m     \u001b[0;31m# Create the parser.\u001b[0m\u001b[0;34m\u001b[0m\u001b[0;34m\u001b[0m\u001b[0;34m\u001b[0m\u001b[0m\n\u001b[0;32m--> 452\u001b[0;31m     \u001b[0mparser\u001b[0m \u001b[0;34m=\u001b[0m \u001b[0mTextFileReader\u001b[0m\u001b[0;34m(\u001b[0m\u001b[0mfp_or_buf\u001b[0m\u001b[0;34m,\u001b[0m \u001b[0;34m**\u001b[0m\u001b[0mkwds\u001b[0m\u001b[0;34m)\u001b[0m\u001b[0;34m\u001b[0m\u001b[0;34m\u001b[0m\u001b[0m\n\u001b[0m\u001b[1;32m    453\u001b[0m \u001b[0;34m\u001b[0m\u001b[0m\n\u001b[1;32m    454\u001b[0m     \u001b[0;32mif\u001b[0m \u001b[0mchunksize\u001b[0m \u001b[0;32mor\u001b[0m \u001b[0miterator\u001b[0m\u001b[0;34m:\u001b[0m\u001b[0;34m\u001b[0m\u001b[0;34m\u001b[0m\u001b[0m\n",
      "\u001b[0;32m~/opt/anaconda3/lib/python3.8/site-packages/pandas/io/parsers.py\u001b[0m in \u001b[0;36m__init__\u001b[0;34m(self, f, engine, **kwds)\u001b[0m\n\u001b[1;32m    944\u001b[0m             \u001b[0mself\u001b[0m\u001b[0;34m.\u001b[0m\u001b[0moptions\u001b[0m\u001b[0;34m[\u001b[0m\u001b[0;34m\"has_index_names\"\u001b[0m\u001b[0;34m]\u001b[0m \u001b[0;34m=\u001b[0m \u001b[0mkwds\u001b[0m\u001b[0;34m[\u001b[0m\u001b[0;34m\"has_index_names\"\u001b[0m\u001b[0;34m]\u001b[0m\u001b[0;34m\u001b[0m\u001b[0;34m\u001b[0m\u001b[0m\n\u001b[1;32m    945\u001b[0m \u001b[0;34m\u001b[0m\u001b[0m\n\u001b[0;32m--> 946\u001b[0;31m         \u001b[0mself\u001b[0m\u001b[0;34m.\u001b[0m\u001b[0m_make_engine\u001b[0m\u001b[0;34m(\u001b[0m\u001b[0mself\u001b[0m\u001b[0;34m.\u001b[0m\u001b[0mengine\u001b[0m\u001b[0;34m)\u001b[0m\u001b[0;34m\u001b[0m\u001b[0;34m\u001b[0m\u001b[0m\n\u001b[0m\u001b[1;32m    947\u001b[0m \u001b[0;34m\u001b[0m\u001b[0m\n\u001b[1;32m    948\u001b[0m     \u001b[0;32mdef\u001b[0m \u001b[0mclose\u001b[0m\u001b[0;34m(\u001b[0m\u001b[0mself\u001b[0m\u001b[0;34m)\u001b[0m\u001b[0;34m:\u001b[0m\u001b[0;34m\u001b[0m\u001b[0;34m\u001b[0m\u001b[0m\n",
      "\u001b[0;32m~/opt/anaconda3/lib/python3.8/site-packages/pandas/io/parsers.py\u001b[0m in \u001b[0;36m_make_engine\u001b[0;34m(self, engine)\u001b[0m\n\u001b[1;32m   1176\u001b[0m     \u001b[0;32mdef\u001b[0m \u001b[0m_make_engine\u001b[0m\u001b[0;34m(\u001b[0m\u001b[0mself\u001b[0m\u001b[0;34m,\u001b[0m \u001b[0mengine\u001b[0m\u001b[0;34m=\u001b[0m\u001b[0;34m\"c\"\u001b[0m\u001b[0;34m)\u001b[0m\u001b[0;34m:\u001b[0m\u001b[0;34m\u001b[0m\u001b[0;34m\u001b[0m\u001b[0m\n\u001b[1;32m   1177\u001b[0m         \u001b[0;32mif\u001b[0m \u001b[0mengine\u001b[0m \u001b[0;34m==\u001b[0m \u001b[0;34m\"c\"\u001b[0m\u001b[0;34m:\u001b[0m\u001b[0;34m\u001b[0m\u001b[0;34m\u001b[0m\u001b[0m\n\u001b[0;32m-> 1178\u001b[0;31m             \u001b[0mself\u001b[0m\u001b[0;34m.\u001b[0m\u001b[0m_engine\u001b[0m \u001b[0;34m=\u001b[0m \u001b[0mCParserWrapper\u001b[0m\u001b[0;34m(\u001b[0m\u001b[0mself\u001b[0m\u001b[0;34m.\u001b[0m\u001b[0mf\u001b[0m\u001b[0;34m,\u001b[0m \u001b[0;34m**\u001b[0m\u001b[0mself\u001b[0m\u001b[0;34m.\u001b[0m\u001b[0moptions\u001b[0m\u001b[0;34m)\u001b[0m\u001b[0;34m\u001b[0m\u001b[0;34m\u001b[0m\u001b[0m\n\u001b[0m\u001b[1;32m   1179\u001b[0m         \u001b[0;32melse\u001b[0m\u001b[0;34m:\u001b[0m\u001b[0;34m\u001b[0m\u001b[0;34m\u001b[0m\u001b[0m\n\u001b[1;32m   1180\u001b[0m             \u001b[0;32mif\u001b[0m \u001b[0mengine\u001b[0m \u001b[0;34m==\u001b[0m \u001b[0;34m\"python\"\u001b[0m\u001b[0;34m:\u001b[0m\u001b[0;34m\u001b[0m\u001b[0;34m\u001b[0m\u001b[0m\n",
      "\u001b[0;32m~/opt/anaconda3/lib/python3.8/site-packages/pandas/io/parsers.py\u001b[0m in \u001b[0;36m__init__\u001b[0;34m(self, src, **kwds)\u001b[0m\n\u001b[1;32m   2006\u001b[0m         \u001b[0mkwds\u001b[0m\u001b[0;34m[\u001b[0m\u001b[0;34m\"usecols\"\u001b[0m\u001b[0;34m]\u001b[0m \u001b[0;34m=\u001b[0m \u001b[0mself\u001b[0m\u001b[0;34m.\u001b[0m\u001b[0musecols\u001b[0m\u001b[0;34m\u001b[0m\u001b[0;34m\u001b[0m\u001b[0m\n\u001b[1;32m   2007\u001b[0m \u001b[0;34m\u001b[0m\u001b[0m\n\u001b[0;32m-> 2008\u001b[0;31m         \u001b[0mself\u001b[0m\u001b[0;34m.\u001b[0m\u001b[0m_reader\u001b[0m \u001b[0;34m=\u001b[0m \u001b[0mparsers\u001b[0m\u001b[0;34m.\u001b[0m\u001b[0mTextReader\u001b[0m\u001b[0;34m(\u001b[0m\u001b[0msrc\u001b[0m\u001b[0;34m,\u001b[0m \u001b[0;34m**\u001b[0m\u001b[0mkwds\u001b[0m\u001b[0;34m)\u001b[0m\u001b[0;34m\u001b[0m\u001b[0;34m\u001b[0m\u001b[0m\n\u001b[0m\u001b[1;32m   2009\u001b[0m         \u001b[0mself\u001b[0m\u001b[0;34m.\u001b[0m\u001b[0munnamed_cols\u001b[0m \u001b[0;34m=\u001b[0m \u001b[0mself\u001b[0m\u001b[0;34m.\u001b[0m\u001b[0m_reader\u001b[0m\u001b[0;34m.\u001b[0m\u001b[0munnamed_cols\u001b[0m\u001b[0;34m\u001b[0m\u001b[0;34m\u001b[0m\u001b[0m\n\u001b[1;32m   2010\u001b[0m \u001b[0;34m\u001b[0m\u001b[0m\n",
      "\u001b[0;32mpandas/_libs/parsers.pyx\u001b[0m in \u001b[0;36mpandas._libs.parsers.TextReader.__cinit__\u001b[0;34m()\u001b[0m\n",
      "\u001b[0;32mpandas/_libs/parsers.pyx\u001b[0m in \u001b[0;36mpandas._libs.parsers.TextReader._setup_parser_source\u001b[0;34m()\u001b[0m\n",
      "\u001b[0;31mFileNotFoundError\u001b[0m: [Errno 2] No such file or directory: 'DA_train_labeled.tsv'"
     ]
    },
    {
     "data": {
      "text/html": [
       "<div>\n",
       "<style scoped>\n",
       "    .dataframe tbody tr th:only-of-type {\n",
       "        vertical-align: middle;\n",
       "    }\n",
       "\n",
       "    .dataframe tbody tr th {\n",
       "        vertical-align: top;\n",
       "    }\n",
       "\n",
       "    .dataframe thead th {\n",
       "        text-align: right;\n",
       "    }\n",
       "</style>\n",
       "<table border=\"1\" class=\"dataframe\">\n",
       "  <thead>\n",
       "    <tr style=\"text-align: right;\">\n",
       "      <th></th>\n",
       "      <th>#1_tweetid</th>\n",
       "      <th>#2_tweet</th>\n",
       "      <th>#3_country_label</th>\n",
       "      <th>#4_province_label</th>\n",
       "    </tr>\n",
       "  </thead>\n",
       "  <tbody>\n",
       "    <tr>\n",
       "      <th>0</th>\n",
       "      <td>TRAIN_0</td>\n",
       "      <td>حاجة حلوة اكيد</td>\n",
       "      <td>Egypt</td>\n",
       "      <td>eg_Faiyum</td>\n",
       "    </tr>\n",
       "    <tr>\n",
       "      <th>1</th>\n",
       "      <td>TRAIN_1</td>\n",
       "      <td>عم بشتغلوا للشعب الاميركي اما نحن يكذبوا ويغشو...</td>\n",
       "      <td>Iraq</td>\n",
       "      <td>iq_Dihok</td>\n",
       "    </tr>\n",
       "    <tr>\n",
       "      <th>2</th>\n",
       "      <td>TRAIN_2</td>\n",
       "      <td>ابشر طال عمرك</td>\n",
       "      <td>Saudi_Arabia</td>\n",
       "      <td>sa_Ha'il</td>\n",
       "    </tr>\n",
       "    <tr>\n",
       "      <th>3</th>\n",
       "      <td>TRAIN_3</td>\n",
       "      <td>منطق 2017: أنا والغريب علي إبن عمي وأنا والغري...</td>\n",
       "      <td>Mauritania</td>\n",
       "      <td>mr_Nouakchott</td>\n",
       "    </tr>\n",
       "    <tr>\n",
       "      <th>4</th>\n",
       "      <td>TRAIN_4</td>\n",
       "      <td>شهرين وتروح والباقي غير صيف ملينا</td>\n",
       "      <td>Algeria</td>\n",
       "      <td>dz_El-Oued</td>\n",
       "    </tr>\n",
       "    <tr>\n",
       "      <th>...</th>\n",
       "      <td>...</td>\n",
       "      <td>...</td>\n",
       "      <td>...</td>\n",
       "      <td>...</td>\n",
       "    </tr>\n",
       "    <tr>\n",
       "      <th>20995</th>\n",
       "      <td>TRAIN_20995</td>\n",
       "      <td>هذا أناني و نافخ روحو</td>\n",
       "      <td>Algeria</td>\n",
       "      <td>dz_Ouargla</td>\n",
       "    </tr>\n",
       "    <tr>\n",
       "      <th>20996</th>\n",
       "      <td>TRAIN_20996</td>\n",
       "      <td>ابا أتعلم ارسم  URL  …</td>\n",
       "      <td>Iraq</td>\n",
       "      <td>iq_Basra</td>\n",
       "    </tr>\n",
       "    <tr>\n",
       "      <th>20997</th>\n",
       "      <td>TRAIN_20997</td>\n",
       "      <td>كلمة وقح شكلك توك الا متعلمتنها كثير تقوليها ب...</td>\n",
       "      <td>Iraq</td>\n",
       "      <td>iq_Basra</td>\n",
       "    </tr>\n",
       "    <tr>\n",
       "      <th>20998</th>\n",
       "      <td>TRAIN_20998</td>\n",
       "      <td>ربنا ما يوريك الناس الدحيحة لما يترَوشِنوا</td>\n",
       "      <td>Egypt</td>\n",
       "      <td>eg_Gharbia</td>\n",
       "    </tr>\n",
       "    <tr>\n",
       "      <th>20999</th>\n",
       "      <td>TRAIN_20999</td>\n",
       "      <td>حرام يا منى ليه بس السيره دي ع الصبح</td>\n",
       "      <td>Lebanon</td>\n",
       "      <td>lb_South-Lebanon</td>\n",
       "    </tr>\n",
       "  </tbody>\n",
       "</table>\n",
       "<p>21000 rows × 4 columns</p>\n",
       "</div>"
      ],
      "text/plain": [
       "        #1_tweetid                                           #2_tweet  \\\n",
       "0          TRAIN_0                                     حاجة حلوة اكيد   \n",
       "1          TRAIN_1  عم بشتغلوا للشعب الاميركي اما نحن يكذبوا ويغشو...   \n",
       "2          TRAIN_2                                      ابشر طال عمرك   \n",
       "3          TRAIN_3  منطق 2017: أنا والغريب علي إبن عمي وأنا والغري...   \n",
       "4          TRAIN_4                  شهرين وتروح والباقي غير صيف ملينا   \n",
       "...            ...                                                ...   \n",
       "20995  TRAIN_20995                              هذا أناني و نافخ روحو   \n",
       "20996  TRAIN_20996                             ابا أتعلم ارسم  URL  …   \n",
       "20997  TRAIN_20997  كلمة وقح شكلك توك الا متعلمتنها كثير تقوليها ب...   \n",
       "20998  TRAIN_20998         ربنا ما يوريك الناس الدحيحة لما يترَوشِنوا   \n",
       "20999  TRAIN_20999               حرام يا منى ليه بس السيره دي ع الصبح   \n",
       "\n",
       "      #3_country_label #4_province_label  \n",
       "0                Egypt         eg_Faiyum  \n",
       "1                 Iraq          iq_Dihok  \n",
       "2         Saudi_Arabia          sa_Ha'il  \n",
       "3           Mauritania     mr_Nouakchott  \n",
       "4              Algeria        dz_El-Oued  \n",
       "...                ...               ...  \n",
       "20995          Algeria        dz_Ouargla  \n",
       "20996             Iraq          iq_Basra  \n",
       "20997             Iraq          iq_Basra  \n",
       "20998            Egypt        eg_Gharbia  \n",
       "20999          Lebanon  lb_South-Lebanon  \n",
       "\n",
       "[21000 rows x 4 columns]"
      ]
     },
     "execution_count": 2,
     "metadata": {},
     "output_type": "execute_result"
    }
   ],
   "source": [
    "import pandas as pd\n",
    "# read the data\n",
    "def read_files(path):\n",
    "    file = pd.read_csv(path, sep='\\t')\n",
    "    print ('The shape of the data: ', file.shape)\n",
    "    return file\n",
    "\n",
<<<<<<< HEAD
    "train_df = read_files('../data/train_dev/Subtask_1.2+2.2_DA/DA_train_labeled.tsv')\n",
    "dev_df = read_files('../data/train_dev/Subtask_1.2+2.2_DA/DA_dev_labeled.tsv')\n",
    "test_df = read_files('../data/test/Subtask_1.2+2.2_DA/DA_test_unlabeled.tsv')\n",
    "train_df"
=======
    "train_df = read_files('./data/DA_train_labeled.tsv')\n",
    "dev_df = read_files('DA_dev_labeled.tsv')\n",
    "test_df = read_files('DA_test_unlabeled.tsv')"
>>>>>>> 7af9a8e6c12d9c20f0571f01896999f3dfb735e0
   ]
  },
  {
   "cell_type": "markdown",
   "metadata": {},
   "source": [
    "# preprocessing"
   ]
  },
  {
   "cell_type": "code",
   "execution_count": null,
   "metadata": {},
   "outputs": [],
   "source": [
    "# clean data\n",
    "def normalize(text):\n",
    "    normalized = str(text)\n",
    "    normalized = re.sub('URL','',normalized) # remove links\n",
    "    normalized = re.sub('USER','',normalized) # remove USER\n",
    "    normalized = re.sub('#','',normalized) # remove #\n",
    "    #normalized = re.sub('(@[A-Za-z0-9]+)_[A-Za-z0-9]+','',normalized) # remove @names with underscore\n",
    "    #normalized = re.sub('(@[A-Za-z0-9]+)','',normalized) # remove @names\n",
    "    #normalized = re.sub('pic\\S+','',normalized) # remove pic.twitter.com links\n",
    "    normalized = re.sub('\\d+','',normalized) # remove numbers\n",
    "    normalized = re.sub('-','',normalized) # remove symbols - . /\n",
    "    normalized = re.sub('[a-zA-Z0-9]+','',normalized) # remove English words \n",
    "    normalized = re.sub('!','',normalized) # remove English words\n",
    "    normalized = re.sub(':','',normalized) # remove English words\n",
    "    normalized = re.sub('[()]','',normalized) # remove English words\n",
    "    normalized = re.sub('☻','',normalized) # remove English words\n",
    "    normalized = re.sub('[\"\"]','',normalized) # remove English words\n",
    "    normalized = re.sub('é','',normalized) # remove English words\n",
    "    normalized = re.sub('\\/','',normalized) # remove English words\n",
    "    normalized = re.sub('؟','',normalized) # remove English words\n",
    "    return normalized"
   ]
  },
  {
   "cell_type": "code",
   "execution_count": null,
   "metadata": {},
<<<<<<< HEAD
   "outputs": [
    {
     "name": "stderr",
     "output_type": "stream",
     "text": [
      "100%|██████████| 21000/21000 [00:00<00:00, 49884.54it/s]\n",
      "100%|██████████| 5000/5000 [00:00<00:00, 51954.07it/s]\n",
      "100%|██████████| 5000/5000 [00:00<00:00, 51453.50it/s]\n"
     ]
    }
   ],
=======
   "outputs": [],
>>>>>>> 7af9a8e6c12d9c20f0571f01896999f3dfb735e0
   "source": [
    "train_df['#2_tweet'] = train_df['#2_tweet'].progress_apply(lambda text: normalize(text))\n",
    "dev_df['#2_tweet'] = dev_df['#2_tweet'].progress_apply(lambda text: normalize(text))\n",
    "test_df['#2_tweet'] = test_df['#2_tweet'].progress_apply(lambda text: normalize(text))"
   ]
  },
  {
   "cell_type": "code",
   "execution_count": null,
   "metadata": {},
   "outputs": [],
   "source": [
    "# delete some stopwords \n",
    "def clean(text):\n",
    "    stops = ['و','الله','في', 'على', 'عن', 'إلى', 'الى', 'من', 'ما', 'لا', 'انا', 'أنا']\n",
    "    text = str(text)\n",
    "    text = text.split()\n",
    "    text = [w for w in text if w not in stops]\n",
    "    text = \" \".join(text)\n",
    "    return text"
   ]
  },
  {
   "cell_type": "code",
   "execution_count": null,
   "metadata": {},
<<<<<<< HEAD
   "outputs": [
    {
     "name": "stderr",
     "output_type": "stream",
     "text": [
      "100%|██████████| 21000/21000 [00:00<00:00, 191152.47it/s]\n",
      "100%|██████████| 5000/5000 [00:00<00:00, 193334.01it/s]\n",
      "100%|██████████| 5000/5000 [00:00<00:00, 194333.69it/s]\n"
     ]
    }
   ],
=======
   "outputs": [],
>>>>>>> 7af9a8e6c12d9c20f0571f01896999f3dfb735e0
   "source": [
    "train_df['#2_tweet'] = train_df['#2_tweet'].progress_apply(lambda text: clean(text))\n",
    "dev_df['#2_tweet'] = dev_df['#2_tweet'].progress_apply(lambda text: clean(text))\n",
    "test_df['#2_tweet'] = test_df['#2_tweet'].progress_apply(lambda text: clean(text))"
   ]
  },
  {
   "cell_type": "code",
   "execution_count": null,
   "metadata": {},
   "outputs": [],
   "source": [
    "# prepare Train_X, Dev_X, Test_X\n",
    "\n",
    "# train X, val X, test X\n",
    "train_X = train_df[\"#2_tweet\"]\n",
    "dev_X = dev_df[\"#2_tweet\"]\n",
    "test_X = test_df[\"#2_tweet\"]\n",
    "\n",
    "# target values\n",
    "train_y = train_df['#3_country_label']\n",
    "#print (train_y)\n",
    "dev_y = dev_df['#3_country_label']\n",
    "#print (dev_y)\n",
    "\n",
    "train_X = train_X.astype(str)\n",
    "dev_X = dev_X.astype(str)\n",
    "test_X = test_X.astype(str)"
   ]
  },
  {
   "cell_type": "code",
<<<<<<< HEAD
   "execution_count": 25,
=======
   "execution_count": null,
>>>>>>> 7af9a8e6c12d9c20f0571f01896999f3dfb735e0
   "metadata": {},
   "outputs": [],
   "source": [
    "# Some varialbles to preprocess the data with keras\n",
    "# 1) embed_size: the length of each word vector\n",
    "embed_size = 300\n",
    "# 2) features: unique words to use\n",
    "max_features = 50000\n",
    "# 3) maxlen: max number of words to use\n",
    "maxlen = 100"
   ]
  },
  {
   "cell_type": "code",
<<<<<<< HEAD
   "execution_count": 26,
=======
   "execution_count": null,
>>>>>>> 7af9a8e6c12d9c20f0571f01896999f3dfb735e0
   "metadata": {},
   "outputs": [],
   "source": [
    "# tokenize tweets\n",
    "tokenizer = Tokenizer(num_words=max_features)\n",
    "tokenizer.fit_on_texts(train_X)\n",
    "\n",
    "train_sequences = tokenizer.texts_to_sequences(train_X)\n",
    "dev_sequences = tokenizer.texts_to_sequences(dev_X)\n",
    "test_sequences = tokenizer.texts_to_sequences(test_X)\n",
    "\n",
    "X_train = pad_sequences(train_sequences, maxlen=maxlen)\n",
    "X_dev = pad_sequences(dev_sequences, maxlen=maxlen)\n",
    "X_test = pad_sequences(test_sequences, maxlen=maxlen)"
   ]
  },
  {
   "cell_type": "code",
<<<<<<< HEAD
   "execution_count": 27,
=======
   "execution_count": null,
>>>>>>> 7af9a8e6c12d9c20f0571f01896999f3dfb735e0
   "metadata": {},
   "outputs": [],
   "source": [
    "# encode y data labels\n",
    "\n",
    "encoder = LabelEncoder()\n",
    "encoder.fit(train_y)\n",
    "y_train = encoder.transform(train_y)\n",
    "y_dev = encoder.transform(dev_y)\n",
    "\n",
    "N_CLASSES = np.max(y_train) + 1\n",
    "N_CLASSES\n",
    "y_train = to_categorical(y_train, N_CLASSES)\n",
    "y_dev = to_categorical(y_dev, N_CLASSES)\n",
    "print('Shape of label tensor:', y_train.shape)"
   ]
  },
  {
   "cell_type": "code",
   "execution_count": 28,
   "metadata": {},
   "outputs": [
    {
     "name": "stdout",
     "output_type": "stream",
     "text": [
      "16800\n",
      "4200\n"
     ]
    }
   ],
   "source": [
    "from sklearn.model_selection import StratifiedShuffleSplit\n",
    "\n",
    "sss = StratifiedShuffleSplit(n_splits=1, test_size=0.2, random_state=0)\n",
    "sss.get_n_splits(X_train, y_train)\n",
    "\n",
    "# for train_index, test_index in sss.split(X, y):\n",
    "# ...     print(\"TRAIN:\", train_index, \"TEST:\", test_index)\n",
    "# ...     X_train, X_test = X[train_index], X[test_index]\n",
    "# ...     y_train, y_test = y[train_index], y[test_index]\n",
    "# TRAIN: [5 2 3] TEST: [4 1 0]\n",
    "# TRAIN: [5 1 4] TEST: [0 2 3]\n",
    "# TRAIN: [5 0 2] TEST: [4 3 1]\n",
    "# TRAIN: [4 1 0] TEST: [2 3 5]\n",
    "# TRAIN: [0 5 1] TEST: [3 4 2]\n",
    "index = sss.split(X_train, y_train)\n",
    "for x in index:\n",
    "    train_index = x[0]\n",
    "    test_index = x[1]\n",
    "    print (len(x[0]))\n",
    "    print (len(x[1]))"
   ]
  },
  {
   "cell_type": "markdown",
   "metadata": {},
   "source": [
    "# aravec word embeddings"
   ]
  },
  {
   "cell_type": "code",
<<<<<<< HEAD
   "execution_count": 12,
=======
   "execution_count": null,
>>>>>>> 7af9a8e6c12d9c20f0571f01896999f3dfb735e0
   "metadata": {},
   "outputs": [],
   "source": [
    "import gensim\n",
    "import itertools\n",
    "# load the AraVec model for Arabic word embeddings - twitter-CBOW (300 vector size)\n",
    "print ('please wait ... loading the AraVec')\n",
    "aravec_model = gensim.models.Word2Vec.load('../aravec/full_grams_cbow_300_twitter.mdl')\n",
    "print (aravec_model)\n",
    "my_dict = {}\n",
    "for index, key in enumerate(aravec_model.wv.vocab):\n",
    "    my_dict[key] = aravec_model.wv[key]\n",
    "    \n",
    "#print the first 2 words and their vectors    \n",
    "# N = 2\n",
    "# out = dict(itertools.islice(my_dict.items(), N))\n",
    "# print (out)"
   ]
  },
  {
   "cell_type": "code",
<<<<<<< HEAD
   "execution_count": 13,
   "metadata": {},
   "outputs": [
    {
     "data": {
      "text/plain": [
       "(50000, 300)"
      ]
     },
     "execution_count": 13,
     "metadata": {},
     "output_type": "execute_result"
    }
   ],
=======
   "execution_count": null,
   "metadata": {},
   "outputs": [],
>>>>>>> 7af9a8e6c12d9c20f0571f01896999f3dfb735e0
   "source": [
    "embedding_matrix = np.zeros((50000, 300))\n",
    "for word, index in tokenizer.word_index.items():\n",
    "    if index > 50000 - 1:\n",
    "        break\n",
    "    else:\n",
    "        embedding_vector = my_dict.get(word)\n",
    "        #print (embedding_vector)\n",
    "        if embedding_vector is not None:\n",
    "            embedding_matrix[index] = embedding_vector\n",
    "            #print (len(embedding_matrix[index]))\n",
    "embedding_matrix.shape"
   ]
  },
  {
   "cell_type": "markdown",
   "metadata": {},
   "source": [
    "# LSTM"
   ]
  },
  {
   "cell_type": "code",
<<<<<<< HEAD
   "execution_count": 29,
   "metadata": {},
   "outputs": [
    {
     "name": "stdout",
     "output_type": "stream",
     "text": [
      "Model: \"model_3\"\n",
      "_________________________________________________________________\n",
      "Layer (type)                 Output Shape              Param #   \n",
      "=================================================================\n",
      "input_4 (InputLayer)         [(None, 100)]             0         \n",
      "_________________________________________________________________\n",
      "embedding_3 (Embedding)      (None, 100, 300)          15000000  \n",
      "_________________________________________________________________\n",
      "lstm_3 (LSTM)                (None, 300)               721200    \n",
      "_________________________________________________________________\n",
      "dense_3 (Dense)              (None, 21)                6321      \n",
      "=================================================================\n",
      "Total params: 15,727,521\n",
      "Trainable params: 15,727,521\n",
      "Non-trainable params: 0\n",
      "_________________________________________________________________\n",
      "None\n"
     ]
    }
   ],
=======
   "execution_count": null,
   "metadata": {},
   "outputs": [],
>>>>>>> 7af9a8e6c12d9c20f0571f01896999f3dfb735e0
   "source": [
    "sequence_input = Input(100,)\n",
    "embedded_sequences = Embedding(max_features, embed_size, weights=[embedding_matrix],\n",
    "                            input_length=maxlen,\n",
    "                            trainable=True)(sequence_input)\n",
    "\n",
    "x1 = LSTM(300)(embedded_sequences)\n",
    "#x2 = LSTM(70, input_shape=(100,1))(x1)\n",
    "predictions = Dense(N_CLASSES, activation='softmax')(x1)\n",
    "\n",
    "\n",
    "model = Model(sequence_input, predictions)\n",
    "model.compile(loss='categorical_crossentropy',\n",
    "              optimizer='adam',\n",
    "              metrics=['acc'])\n",
    "print(model.summary())\n",
    "\n",
    "#input size: (95000,360,1) and output size: (95000,22)"
   ]
  },
  {
   "cell_type": "code",
<<<<<<< HEAD
   "execution_count": 30,
   "metadata": {},
   "outputs": [
    {
     "name": "stdout",
     "output_type": "stream",
     "text": [
      "Epoch 1/3\n",
      "263/263 [==============================] - 131s 491ms/step - loss: 2.3268 - acc: 0.3356 - val_loss: 2.0461 - val_acc: 0.4050\n",
      "Epoch 2/3\n",
      "263/263 [==============================] - 125s 476ms/step - loss: 1.6853 - acc: 0.5039 - val_loss: 2.0038 - val_acc: 0.4207\n",
      "Epoch 3/3\n",
      "263/263 [==============================] - 134s 508ms/step - loss: 1.1352 - acc: 0.6778 - val_loss: 2.1278 - val_acc: 0.4205\n"
     ]
    }
   ],
=======
   "execution_count": null,
   "metadata": {},
   "outputs": [],
>>>>>>> 7af9a8e6c12d9c20f0571f01896999f3dfb735e0
   "source": [
    "train = model.fit(X_train[train_index], y_train[train_index], epochs=3, batch_size=64, \n",
    "          validation_data=(X_train[test_index], y_train[test_index]))"
   ]
  },
  {
   "cell_type": "code",
<<<<<<< HEAD
   "execution_count": 31,
   "metadata": {},
   "outputs": [
    {
     "name": "stdout",
     "output_type": "stream",
     "text": [
      "test auc: 0.7330535345086527\n"
     ]
    }
   ],
=======
   "execution_count": null,
   "metadata": {},
   "outputs": [],
>>>>>>> 7af9a8e6c12d9c20f0571f01896999f3dfb735e0
   "source": [
    "output_test = model.predict(X_dev)\n",
    "print(\"test auc:\", roc_auc_score(y_dev,output_test))"
   ]
  },
  {
   "cell_type": "code",
<<<<<<< HEAD
   "execution_count": 32,
   "metadata": {},
   "outputs": [
    {
     "name": "stdout",
     "output_type": "stream",
     "text": [
      "79/79 [==============================] - 9s 108ms/step - loss: 2.2930 - acc: 0.3886\n",
      "Dev loss: 2.2930450439453125\n",
      "Dev accuracy: 0.3885999917984009\n"
     ]
    }
   ],
=======
   "execution_count": null,
   "metadata": {},
   "outputs": [],
>>>>>>> 7af9a8e6c12d9c20f0571f01896999f3dfb735e0
   "source": [
    "# Evaluate the accuracy of our trained model\n",
    "score = model.evaluate(X_dev, y_dev,\n",
    "                       batch_size=64, verbose=1)\n",
    "print('Dev loss:', score[0])\n",
    "print('Dev accuracy:', score[1])"
   ]
  },
  {
   "cell_type": "markdown",
   "metadata": {},
   "source": [
    "# apply on dev data"
   ]
  },
  {
   "cell_type": "code",
<<<<<<< HEAD
   "execution_count": 33,
   "metadata": {},
   "outputs": [
    {
     "name": "stdout",
     "output_type": "stream",
     "text": [
      "100/100 [==============================] - 10s 95ms/step\n",
      "Labels are:  [ 3  0  3 ...  3 11 14]\n",
      "The length of predicted labels is:  5000\n"
     ]
    }
   ],
=======
   "execution_count": null,
   "metadata": {},
   "outputs": [],
>>>>>>> 7af9a8e6c12d9c20f0571f01896999f3dfb735e0
   "source": [
    "#apply to validation set\n",
    "pred_dev_y = model.predict([X_dev], batch_size=50, verbose=1)\n",
    "pred_dev_y\n",
    "indexes = np.argsort(pred_dev_y)[::-1]\n",
    "indexes\n",
    "\n",
    "# labels for the predicted dev data\n",
    "labels = np.argmax(pred_dev_y, axis=-1)    \n",
    "print('Labels are: ',labels)\n",
    "\n",
    "# getting the labels throw (inverse_transform)\n",
    "dev_y_predicted = encoder.inverse_transform(labels)\n",
    "print ('The length of predicted labels is: ', len(dev_y_predicted))\n",
    "\n",
    "# save labels to txt file\n",
    "with open(\"../prediction_files/dev_70.txt\", \"w\") as f:\n",
    "    for s in dev_y_predicted:\n",
    "        f.write(str(s) +\"\\n\")"
   ]
  },
  {
   "cell_type": "markdown",
   "metadata": {},
   "source": [
    "# apply on the test data"
   ]
  },
  {
   "cell_type": "code",
   "execution_count": null,
   "metadata": {},
   "outputs": [],
   "source": [
    "# applying to testing unlabeled dataset\n",
    "pred_test_y = model.predict([X_test], batch_size=50, verbose=1)\n",
    "pred_test_y\n",
    "indexes = np.argsort(pred_dev_y)[::-1]\n",
    "#print (indexes)\n",
    "\n",
    "# labels for the predicted dev data\n",
    "labels = np.argmax(pred_test_y, axis=-1)    \n",
    "#print('Labels are: ',labels)\n",
    "\n",
    "# getting the labels throw (inverse_transform)\n",
    "test_y_predicted = encoder.inverse_transform(labels)\n",
    "#print ('The length of predicted labels is: ', len(test_y_predicted))\n",
    "\n",
    "# save labels to txt file\n",
    "with open(\"predicted_test_labels_only_lstm_aravec.txt\", \"w\") as f:\n",
    "    for s in dev_y_predicted:\n",
    "        f.write(str(s) +\"\\n\")"
   ]
  },
  {
   "cell_type": "code",
   "execution_count": null,
   "metadata": {},
   "outputs": [],
   "source": []
  }
 ],
 "metadata": {
  "kernelspec": {
   "display_name": "Python 3",
   "language": "python",
   "name": "python3"
  },
  "language_info": {
   "codemirror_mode": {
    "name": "ipython",
    "version": 3
   },
   "file_extension": ".py",
   "mimetype": "text/x-python",
   "name": "python",
   "nbconvert_exporter": "python",
   "pygments_lexer": "ipython3",
   "version": "3.8.5"
  }
 },
 "nbformat": 4,
 "nbformat_minor": 2
}
