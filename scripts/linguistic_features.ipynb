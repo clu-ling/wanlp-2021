{
 "cells": [
  {
   "cell_type": "code",
   "execution_count": 2,
   "metadata": {},
   "outputs": [],
   "source": [
    "import os\n",
    "import glob\n",
    "import pandas as pd \n",
    "import numpy as np\n",
    "\n",
    "from typing import Union\n",
    "from scipy.sparse import spmatrix\n",
    "from sklearn.feature_extraction import DictVectorizer \n",
    "from sklearn.metrics import classification_report\n",
    "from sklearn import preprocessing\n",
    "from sklearn.linear_model import LogisticRegression\n",
    "from sklearn.preprocessing import LabelEncoder\n",
    "from sklearn.metrics import f1_score, accuracy_score\n",
    "from matplotlib import pyplot as plt"
   ]
  },
  {
   "cell_type": "code",
   "execution_count": 5,
   "metadata": {},
   "outputs": [],
   "source": [
    "class FeatureExtractor(object):\n",
    "    def egypt_neg(self, text):\n",
    "        return 1 if u'مش' in text else 0\n",
    "    def iraq (self, text):\n",
    "        return \n",
    "    \n",
    "    def create_feature_dict(self, text):\n",
    "        return{\n",
    "            \"egy_neg\": self.egy_neg(text)\n",
    "        }"
   ]
  },
  {
   "cell_type": "code",
   "execution_count": 19,
   "metadata": {},
   "outputs": [],
   "source": [
    "class LabelExtractor(object):\n",
    "    def __init__(self):\n",
    "        self.labels = LabelEncoder()\n",
    "        \n",
    "    def fit_and_transform_label(self, labels):\n",
    "        return self.labels.fit_transform(labels)\n",
    "    \n",
    "    def Labels(self, labels):\n",
    "        return self.labels.classes_"
   ]
  },
  {
   "cell_type": "code",
   "execution_count": 20,
   "metadata": {},
   "outputs": [],
   "source": [
    "class FeatureEncoder(object):\n",
    "    def __init__(self):\n",
    "        self.dv = DictVectorizer()\n",
    "\n",
    "    def fit_and_transform(self, texts):\n",
    "        m = self.dv.fit_transform(texts)\n",
    "        return m\n",
    "\n",
    "    def get_feature_names(self):\n",
    "        feature_names = self.dv.get_feature_names()\n",
    "        return feature_names"
   ]
  },
  {
   "cell_type": "code",
   "execution_count": 30,
   "metadata": {},
   "outputs": [],
   "source": [
    "# read data \n",
    "train = read_file('./data/train_labeled.tsv')\n",
    "dev = read_file('./data/dev_labeled.tsv')\n",
    "test = read_file('./data/test_unlabeled.tsv')"
   ]
  },
  {
   "cell_type": "code",
   "execution_count": 31,
   "metadata": {},
   "outputs": [],
   "source": [
    "# iterate over the data and use FeatureExtractor class\n",
    "feature_extraction = FeatureExtractor()\n",
    "feature_reps = [] \n",
    "for sent in train['#2 tweet_content']:\n",
    "    feature_dict = feature_extraction.create_feature_dict(sent)\n",
    "    feature_reps.append(feature_dict)"
   ]
  },
  {
   "cell_type": "code",
   "execution_count": 32,
   "metadata": {},
   "outputs": [
    {
     "name": "stdout",
     "output_type": "stream",
     "text": [
      "\n",
      "Features: \n",
      "\n",
      " ['egy_neg']\n",
      "\n",
      "Language Labels:\n",
      "\n",
      " ['Algeria' 'Bahrain' 'Djibouti' 'Egypt' 'Iraq' 'Jordan' 'Kuwait' 'Lebanon'\n",
      " 'Libya' 'Mauritania' 'Morocco' 'Oman' 'Palestine' 'Qatar' 'Saudi_Arabia'\n",
      " 'Somalia' 'Sudan' 'Syria' 'Tunisia' 'United_Arab_Emirates' 'Yemen']\n"
     ]
    }
   ],
   "source": [
    "\"\"\"\n",
    "Using the FeatureEncoder class, we now will take the dictionary that we got from the FeatureExtractor and perform\n",
    "fit and transform to get a sparse matrix that we will use to train the classifier. \n",
    "\"\"\"\n",
    "\n",
    "datum = feature_reps\n",
    "features = FeatureEncoder()\n",
    "labels = LabelExtractor()\n",
    "\n",
    "X = features.fit_and_transform(datum)\n",
    "Y = labels.fit_and_transform_label(train['#3 country_label'])\n",
    "\n",
    "print(\"\\nFeatures: \\n\\n\",features.get_feature_names())\n",
    "print(\"\\nLanguage Labels:\\n\\n\", labels.Labels(dev['#3 country_label']))"
   ]
  },
  {
   "cell_type": "code",
   "execution_count": 33,
   "metadata": {},
   "outputs": [
    {
     "name": "stdout",
     "output_type": "stream",
     "text": [
      "\n",
      "Training the Classifier...\n",
      "\n",
      "\n",
      "Weights (After Training:):\n",
      "\n",
      " [[-0.47277353]\n",
      " [-0.71860607]\n",
      " [-0.40497387]\n",
      " [ 1.0520721 ]\n",
      " [-0.7289435 ]\n",
      " [-0.16434922]\n",
      " [-1.14701814]\n",
      " [ 0.45025545]\n",
      " [ 0.26712254]\n",
      " [-0.40497387]\n",
      " [-0.22286877]\n",
      " [-0.59122503]\n",
      " [ 0.06921038]\n",
      " [-0.70402476]\n",
      " [-0.57787623]\n",
      " [-0.98259146]\n",
      " [-0.71860607]\n",
      " [-0.51813338]\n",
      " [ 0.52952995]\n",
      " [-0.79233098]\n",
      " [-0.1433291 ]]\n"
     ]
    }
   ],
   "source": [
    "\"\"\"\n",
    "Now we can train the Logistic Regression Classifier, feeding the feature matrix that we got from the DictVectorizer\n",
    "and the Labels we got from the LabelEncoder. \n",
    "\"\"\"\n",
    "\n",
    "print(\"\\nTraining the Classifier...\\n\")\n",
    "\n",
    "Z = Classifier()\n",
    "Z.train(X,Y)\n",
    "\n",
    "print(\"\\nWeights (After Training:):\\n\\n\", Z.weights(X))"
   ]
  },
  {
   "cell_type": "code",
   "execution_count": 40,
   "metadata": {},
   "outputs": [
    {
     "name": "stdout",
     "output_type": "stream",
     "text": [
      "\n",
      "Extracting Features from Development Data...\n",
      "\n",
      "\n",
      "Making Predictions...\n",
      "\n",
      "\n",
      "Calculating F1 Score and Accuracy ...\n",
      "\n"
     ]
    },
    {
     "data": {
      "image/png": "[encoded data removed]",
      "text/plain": [
       "<Figure size 432x288 with 1 Axes>"
      ]
     },
     "metadata": {
      "needs_background": "light"
     },
     "output_type": "display_data"
    },
    {
     "name": "stdout",
     "output_type": "stream",
     "text": [
      "\n",
      "0.08 F1 score and 0.22 accuracy on the development data\n",
      "\n",
      "\n",
      "Classification Report:\n",
      "\n",
      "              precision    recall  f1-score   support\n",
      "\n",
      "           0       0.00      0.00      0.00         0\n",
      "           1       0.00      0.00      0.00         0\n",
      "           2       0.00      0.00      0.00         0\n",
      "           3       1.00      0.22      0.36      4957\n",
      "           4       0.00      0.00      0.00         0\n",
      "           5       0.00      0.00      0.00         0\n",
      "           6       0.00      0.00      0.00         0\n",
      "           7       0.00      0.00      0.00         0\n",
      "           8       0.00      0.00      0.00         0\n",
      "           9       0.00      0.00      0.00         0\n",
      "          10       0.00      0.00      0.00         0\n",
      "          11       0.00      0.00      0.00         0\n",
      "          12       0.00      0.00      0.00         0\n",
      "          13       0.00      0.00      0.00         0\n",
      "          14       0.00      0.00      0.00         0\n",
      "          15       0.00      0.00      0.00         0\n",
      "          16       0.00      0.00      0.00         0\n",
      "          17       0.00      0.00      0.00         0\n",
      "          18       0.00      0.00      0.00         0\n",
      "          19       0.00      0.00      0.00         0\n",
      "          20       0.00      0.00      0.00         0\n",
      "\n",
      "   micro avg       0.22      0.22      0.22      4957\n",
      "   macro avg       0.05      0.01      0.02      4957\n",
      "weighted avg       1.00      0.22      0.36      4957\n",
      "\n"
     ]
    },
    {
     "name": "stderr",
     "output_type": "stream",
     "text": [
      "/anaconda3/lib/python3.7/site-packages/sklearn/metrics/classification.py:1145: UndefinedMetricWarning: Recall and F-score are ill-defined and being set to 0.0 in labels with no true samples.\n",
      "  'recall', 'true', average, warn_for)\n"
     ]
    }
   ],
   "source": [
    "\"\"\"\n",
    "After training, we extract the features of the development data and make predictions using classifier.predict \n",
    "and then evaluate the performance using the evaluation metrics presented at the classification report at the end:\n",
    "\"\"\"\n",
    "print(\"\\nExtracting Features from Development Data...\\n\")\n",
    "\n",
    "development_data = dev['#2 tweet_content']\n",
    "feature_reps_dev = [] \n",
    "for sent in development_data: \n",
    "    feature_dict = feature_extraction.create_feature_dict(sent)\n",
    "    feature_reps_dev.append(feature_dict) \n",
    "\n",
    "print(\"\\nMaking Predictions...\\n\")\n",
    "\n",
    "dev_datum = features.fit_and_transform(feature_reps_dev)\n",
    "predictions = Z.predict(dev_datum)\n",
    "dev_indexes = labels.fit_and_transform_label(dev['#3 country_label'])\n",
    "\n",
    "print(\"\\nCalculating F1 Score and Accuracy ...\\n\")\n",
    "\n",
    "f1 = f1_score(dev_indexes, predictions, average='weighted')\n",
    "accuracy = accuracy_score(dev_indexes, predictions)\n",
    "plt.plot(accuracy)\n",
    "plt.show()\n",
    "\n",
    "print(f\"\\n{round(f1, 2)} F1 score and {round(accuracy, 2)} accuracy on the development data\\n\")\n",
    "\n",
    "print(\"\\nClassification Report:\\n\")\n",
    "target_names = ['Algeria' 'Bahrain' 'Djibouti' 'Egypt' 'Iraq' 'Jordan' 'Kuwait' 'Lebanon'\n",
    " 'Libya' 'Mauritania' 'Morocco' 'Oman' 'Palestine' 'Qatar' 'Saudi_Arabia'\n",
    " 'Somalia' 'Sudan' 'Syria' 'Tunisia' 'United_Arab_Emirates' 'Yemen']\n",
    "#print(classification_report(predictions, dev_indexes, target_names=target_names))\n",
    "\n",
    "print(classification_report(predictions, dev_indexes))"
   ]
  },
  {
   "cell_type": "code",
   "execution_count": null,
   "metadata": {},
   "outputs": [],
   "source": []
  }
 ],
 "metadata": {
  "kernelspec": {
   "display_name": "Python 3",
   "language": "python",
   "name": "python3"
  },
  "language_info": {
   "codemirror_mode": {
    "name": "ipython",
    "version": 3
   },
   "file_extension": ".py",
   "mimetype": "text/x-python",
   "name": "python",
   "nbconvert_exporter": "python",
   "pygments_lexer": "ipython3",
   "version": "3.7.3"
  }
 },
 "nbformat": 4,
 "nbformat_minor": 2
}
